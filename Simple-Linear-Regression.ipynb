{
 "cells": [
  {
   "cell_type": "markdown",
   "metadata": {},
   "source": [
    "## This code implements a linear model, included both analytical and numerical methods"
   ]
  },
  {
   "cell_type": "code",
   "execution_count": 1,
   "metadata": {},
   "outputs": [],
   "source": [
    "# Import library\n",
    "import numpy as np\n",
    "import matplotlib.pyplot as plt\n",
    "import time\n",
    "%matplotlib inline"
   ]
  },
  {
   "cell_type": "code",
   "execution_count": 2,
   "metadata": {},
   "outputs": [],
   "source": [
    "# Generate data\n",
    "N = 10**6 # number of samples\n",
    "x = np.random.rand(N,1)\n",
    "# Add random noise\n",
    "y =  4.54 + 3.15*x + np.random.randn(N,1)"
   ]
  },
  {
   "cell_type": "code",
   "execution_count": 3,
   "metadata": {},
   "outputs": [],
   "source": [
    "# Add column ones \n",
    "ones = np.ones((x.shape[0],1))\n",
    "Xhat = np.concatenate((ones, x), axis = 1)"
   ]
  },
  {
   "cell_type": "code",
   "execution_count": 4,
   "metadata": {},
   "outputs": [],
   "source": [
    "# Creat decorator to measure runtime\n",
    "def time_measure(fn):\n",
    "    def get_time(*args, **kwargs):\n",
    "        start = time.time()\n",
    "        output = fn(*args, **kwargs)\n",
    "        print(f\"Runtime in function {fn.__name__} is {time.time() - start} secs.\")\n",
    "        return output # make sure that the decorator returns the output of fn\n",
    "    return get_time"
   ]
  },
  {
   "cell_type": "markdown",
   "metadata": {},
   "source": [
    "## Method 1. Analytical Method"
   ]
  },
  {
   "cell_type": "code",
   "execution_count": 5,
   "metadata": {},
   "outputs": [],
   "source": [
    "# Calculate by using closed-form\n",
    "@time_measure\n",
    "def closed_form(X, y):\n",
    "    A = np.dot(X.T, X) # Size of A just depends on No. of features. \n",
    "    b = np.dot(X.T, y)\n",
    "    w = np.dot(np.linalg.pinv(A), b)\n",
    "    return w"
   ]
  },
  {
   "cell_type": "code",
   "execution_count": 6,
   "metadata": {},
   "outputs": [
    {
     "name": "stdout",
     "output_type": "stream",
     "text": [
      "Runtime in function closed_form is 0.031914710998535156 secs.\n",
      "MSE error of closed-form method is 1.0006576113958614\n"
     ]
    },
    {
     "data": {
      "text/plain": [
       "array([[4.54302783],\n",
       "       [3.14564612]])"
      ]
     },
     "execution_count": 6,
     "metadata": {},
     "output_type": "execute_result"
    }
   ],
   "source": [
    "w = closed_form(Xhat,y)\n",
    "# Calculate MSE\n",
    "def mse_lr(w):\n",
    "    err = np.dot(Xhat, w) - y\n",
    "    return (1/N)*np.linalg.norm(err)**2\n",
    "\n",
    "err1 = mse_lr(w)\n",
    "print (f\"MSE error of closed-form method is {err1}\")\n",
    "w"
   ]
  },
  {
   "cell_type": "code",
   "execution_count": 7,
   "metadata": {},
   "outputs": [
    {
     "data": {
      "text/plain": [
       "[<matplotlib.lines.Line2D at 0x17912b71f48>]"
      ]
     },
     "execution_count": 7,
     "metadata": {},
     "output_type": "execute_result"
    },
    {
     "data": {
      "image/png": "[encoded data removed]",
      "text/plain": [
       "<Figure size 432x288 with 1 Axes>"
      ]
     },
     "metadata": {
      "needs_background": "light"
     },
     "output_type": "display_data"
    }
   ],
   "source": [
    "# Plot\n",
    "plt.scatter(x, y, color = 'red')\n",
    "plt.plot(x, np.dot(Xhat, w), color = 'blue')"
   ]
  },
  {
   "cell_type": "markdown",
   "metadata": {},
   "source": [
    "## Method 2. Numerical Method"
   ]
  },
  {
   "cell_type": "code",
   "execution_count": 8,
   "metadata": {},
   "outputs": [],
   "source": [
    "# Calculate by applying Gradient Decent \n",
    "def grad_mse(w):\n",
    "    err = np.dot(Xhat, w) - y\n",
    "    return (2/N)*np.dot(Xhat.T, err)\n",
    "\n",
    "\n",
    "def mse_lr(w):\n",
    "    err = np.dot(Xhat, w) - y\n",
    "    return (1/N)*np.linalg.norm(err)**2\n",
    "\n",
    "@time_measure\n",
    "def GD(w, alpha, eta):\n",
    "    \"\"\"\n",
    "    alpha: step size\n",
    "    eta: stop condition\n",
    "    \"\"\"\n",
    "    for i in range(10000):\n",
    "        w_new = w - alpha*grad_mse(w)\n",
    "        if np.linalg.norm(grad_mse(w)) < eta:\n",
    "            break\n",
    "        w = w_new\n",
    "    print (f\"MSE error of {GD.__name__} method is {mse_lr(w_new)} after {i} iterations\")\n",
    "    return w_new"
   ]
  },
  {
   "cell_type": "code",
   "execution_count": 9,
   "metadata": {},
   "outputs": [
    {
     "name": "stdout",
     "output_type": "stream",
     "text": [
      "MSE error of get_time method is 1.000661226945883 after 981 iterations\n",
      "Runtime in function GD is 19.21560049057007 secs.\n"
     ]
    },
    {
     "data": {
      "text/plain": [
       "array([[4.54652708],\n",
       "       [3.13911051]])"
      ]
     },
     "execution_count": 9,
     "metadata": {},
     "output_type": "execute_result"
    }
   ],
   "source": [
    "w2 = np.array([[25083], [9687]]) # Initial guess\n",
    "alpha = 0.1\n",
    "eta = 1e-3\n",
    "w_new = GD(w2, alpha, eta)\n",
    "w_new"
   ]
  },
  {
   "cell_type": "code",
   "execution_count": 10,
   "metadata": {},
   "outputs": [
    {
     "data": {
      "text/plain": [
       "[<matplotlib.lines.Line2D at 0x17917478708>]"
      ]
     },
     "execution_count": 10,
     "metadata": {},
     "output_type": "execute_result"
    },
    {
     "data": {
      "image/png": "[encoded data removed]",
      "text/plain": [
       "<Figure size 432x288 with 1 Axes>"
      ]
     },
     "metadata": {
      "needs_background": "light"
     },
     "output_type": "display_data"
    }
   ],
   "source": [
    "# Plot\n",
    "plt.scatter(x, y, color = 'red')\n",
    "plt.plot(x, np.dot(Xhat, w_new), color = 'blue')"
   ]
  },
  {
   "cell_type": "markdown",
   "metadata": {},
   "source": [
    "## Conclusion:\n",
    "1. Numerical method: need to trade-off between runtime and stepsize.\n",
    "2. Analytical method runtime just depends on number of features.\n",
    "3. Analytical method does not always run slower than numerical method when increasing the sample size (especially when the number of features is small). "
   ]
  },
  {
   "cell_type": "markdown",
   "metadata": {},
   "source": [
    "## Stochastic gradient"
   ]
  },
  {
   "cell_type": "code",
   "execution_count": 13,
   "metadata": {},
   "outputs": [],
   "source": [
    "def sgrad_mse(w, i, x_idx):\n",
    "    idx = x_idx[i]\n",
    "    err = np.dot(Xhat[idx,:],w) - y[idx]\n",
    "    out = err*Xhat[idx,:]\n",
    "    return out.reshape(2,1)\n",
    "\n",
    "\n",
    "# def mse(w, i, x_idx):\n",
    "#     idx = x_idx[i]\n",
    "#     err = np.dot(Xhat[idx,:],w) - y[idx]\n",
    "#     return err**2\n",
    "\n",
    "count = 0\n",
    "checkpoit = 10\n",
    "@time_measure\n",
    "def SGD(w_int, alpha, epsilon):\n",
    "    \"\"\"\n",
    "    alpha: step size\n",
    "    epsilon: stop condition\n",
    "    \"\"\"\n",
    "    w = [w_int]\n",
    "    w_last_check = w_int\n",
    "    count = 0\n",
    "    checkpoint = 10 # check every 10 iterations\n",
    "    for it in range(10): # number of epoches\n",
    "        x_idx = np.random.permutation(N)\n",
    "        for i in range(N): # loop all the data\n",
    "            count += 1\n",
    "            w_new = w[-1] - alpha*sgrad_mse(w[-1],i,x_idx)\n",
    "            w.append(w_new)\n",
    "            if count%checkpoint == 0:\n",
    "                w_current_check = w_new\n",
    "                if np.linalg.norm(w_current_check - w_last_check)/len(w_int) < epsilon:\n",
    "                    return w\n",
    "                w_last_check = w_current_check\n",
    "    print (f\"MSE error of {SGD.__name__} method is {mse_lr(w_new)} after {count} iterations\")\n",
    "    return w"
   ]
  },
  {
   "cell_type": "code",
   "execution_count": 14,
   "metadata": {},
   "outputs": [
    {
     "name": "stdout",
     "output_type": "stream",
     "text": [
      "Runtime in function SGD is 0.27825427055358887 secs.\n"
     ]
    },
    {
     "data": {
      "text/plain": [
       "array([[4.39946637],\n",
       "       [2.79153697]])"
      ]
     },
     "execution_count": 14,
     "metadata": {},
     "output_type": "execute_result"
    }
   ],
   "source": [
    "w_new2 = SGD(w2, alpha, eta)\n",
    "w_new2[-1]"
   ]
  },
  {
   "cell_type": "code",
   "execution_count": null,
   "metadata": {},
   "outputs": [],
   "source": []
  }
 ],
 "metadata": {
  "kernelspec": {
   "display_name": "Python 3",
   "language": "python",
   "name": "python3"
  },
  "language_info": {
   "codemirror_mode": {
    "name": "ipython",
    "version": 3
   },
   "file_extension": ".py",
   "mimetype": "text/x-python",
   "name": "python",
   "nbconvert_exporter": "python",
   "pygments_lexer": "ipython3",
   "version": "3.7.4"
  }
 },
 "nbformat": 4,
 "nbformat_minor": 2
}
