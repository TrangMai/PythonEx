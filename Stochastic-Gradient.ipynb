{
 "cells": [
  {
   "cell_type": "code",
   "execution_count": 1,
   "metadata": {},
   "outputs": [],
   "source": [
    "import numpy as np\n",
    "import matplotlib.pyplot as plt\n",
    "import pandas as pd\n",
    "import time\n",
    "%matplotlib inline"
   ]
  },
  {
   "cell_type": "code",
   "execution_count": 2,
   "metadata": {},
   "outputs": [],
   "source": [
    "# Generate data\n",
    "N = 10**2 # number of samples\n",
    "x = np.random.rand(N,1)\n",
    "# Add random noise\n",
    "y =  4.54 + 3.15*x + np.random.randn(N,1)"
   ]
  },
  {
   "cell_type": "code",
   "execution_count": 3,
   "metadata": {},
   "outputs": [],
   "source": [
    "# Add column ones \n",
    "ones = np.ones((x.shape[0],1))\n",
    "Xhat = np.concatenate((ones, x), axis = 1)"
   ]
  },
  {
   "cell_type": "code",
   "execution_count": 4,
   "metadata": {},
   "outputs": [],
   "source": [
    "def sgrad_mse(w, i, x_idx):\n",
    "    idx = x_idx[i]\n",
    "    err = np.dot(Xhat[idx,:],w) - y[idx]\n",
    "    out = err*Xhat[idx,:]\n",
    "    return out.reshape(2,1)\n",
    "\n",
    "\n",
    "# def mse(w, i, x_idx):\n",
    "#     idx = x_idx[i]\n",
    "#     err = np.dot(Xhat[idx,:],w) - y[idx]\n",
    "#     return err**2\n",
    "\n",
    "count = 0\n",
    "checkpoit = 10\n",
    "\n",
    "def SGD(w_int, alpha, epsilon):\n",
    "    \"\"\"\n",
    "    alpha: step size\n",
    "    epsilon: stop condition\n",
    "    \"\"\"\n",
    "    w = [w_int]\n",
    "    w_last_check = w_int\n",
    "    count = 0\n",
    "    checkpoint = 10 # check every 10 iterations\n",
    "    for it in range(10): # number of epoches\n",
    "        x_idx = np.random.permutation(N)\n",
    "        for i in range(N): # loop all the data\n",
    "            count += 1\n",
    "            w_new = w[-1] - alpha*sgrad_mse(w[-1],i,x_idx)\n",
    "            w.append(w_new)\n",
    "            if count%checkpoint == 0:\n",
    "                w_current_check = w_new\n",
    "                if np.linalg.norm(w_current_check - w_last_check)/len(w_int) < epsilon:\n",
    "                    return w\n",
    "                w_last_check = w_current_check\n",
    "    return w\n",
    "                \n",
    "                \n",
    "            "
   ]
  },
  {
   "cell_type": "code",
   "execution_count": 5,
   "metadata": {},
   "outputs": [
    {
     "data": {
      "text/plain": [
       "array([[5.9299095 ],\n",
       "       [0.90718868]])"
      ]
     },
     "execution_count": 5,
     "metadata": {},
     "output_type": "execute_result"
    }
   ],
   "source": [
    "w2 = np.array([[25083], [9687]]) # Initial guess\n",
    "alpha = 0.1\n",
    "epsilon = 1e-3\n",
    "w_new = SGD(w2, alpha, epsilon)\n",
    "w_new[-1]"
   ]
  },
  {
   "cell_type": "code",
   "execution_count": 6,
   "metadata": {},
   "outputs": [],
   "source": [
    "# def mse(w):\n",
    "#     err = np.dot(Xhat,w) - y\n",
    "#     return (1/N)*np.linalg.norm(err)**2\n",
    "# # plot loss function\n",
    "# x = np.linspace(0, 19, num=3)\n",
    "# for x in range(15):\n",
    "#     err \n",
    "    \n"
   ]
  },
  {
   "cell_type": "code",
   "execution_count": 7,
   "metadata": {},
   "outputs": [
    {
     "ename": "NameError",
     "evalue": "name 'loss' is not defined",
     "output_type": "error",
     "traceback": [
      "\u001b[1;31m---------------------------------------------------------------------------\u001b[0m",
      "\u001b[1;31mNameError\u001b[0m                                 Traceback (most recent call last)",
      "\u001b[1;32m<ipython-input-7-e2d623e77aae>\u001b[0m in \u001b[0;36m<module>\u001b[1;34m\u001b[0m\n\u001b[1;32m----> 1\u001b[1;33m \u001b[0mlf\u001b[0m \u001b[1;33m=\u001b[0m \u001b[0mloss\u001b[0m\u001b[1;33m(\u001b[0m\u001b[0mw\u001b[0m\u001b[1;33m)\u001b[0m\u001b[1;33m\u001b[0m\u001b[1;33m\u001b[0m\u001b[0m\n\u001b[0m\u001b[0;32m      2\u001b[0m \u001b[0mlen\u001b[0m\u001b[1;33m(\u001b[0m\u001b[0mlf\u001b[0m\u001b[1;33m)\u001b[0m\u001b[1;33m\u001b[0m\u001b[1;33m\u001b[0m\u001b[0m\n\u001b[0;32m      3\u001b[0m \u001b[1;31m# x = np.linspace(0, 19, num=3)\u001b[0m\u001b[1;33m\u001b[0m\u001b[1;33m\u001b[0m\u001b[1;33m\u001b[0m\u001b[0m\n\u001b[0;32m      4\u001b[0m \u001b[1;31m# x\u001b[0m\u001b[1;33m\u001b[0m\u001b[1;33m\u001b[0m\u001b[1;33m\u001b[0m\u001b[0m\n",
      "\u001b[1;31mNameError\u001b[0m: name 'loss' is not defined"
     ]
    }
   ],
   "source": [
    "lf = loss(w)\n",
    "len(lf)\n",
    "# x = np.linspace(0, 19, num=3)\n",
    "# x"
   ]
  },
  {
   "cell_type": "code",
   "execution_count": null,
   "metadata": {},
   "outputs": [],
   "source": [
    "# x = np.linspace(0, 19, num=20)\n",
    "y = loss(w)\n",
    "y[0]"
   ]
  },
  {
   "cell_type": "code",
   "execution_count": null,
   "metadata": {},
   "outputs": [],
   "source": [
    "w[-1]"
   ]
  },
  {
   "cell_type": "code",
   "execution_count": null,
   "metadata": {},
   "outputs": [],
   "source": []
  },
  {
   "cell_type": "code",
   "execution_count": null,
   "metadata": {},
   "outputs": [],
   "source": []
  }
 ],
 "metadata": {
  "kernelspec": {
   "display_name": "Python 3",
   "language": "python",
   "name": "python3"
  },
  "language_info": {
   "codemirror_mode": {
    "name": "ipython",
    "version": 3
   },
   "file_extension": ".py",
   "mimetype": "text/x-python",
   "name": "python",
   "nbconvert_exporter": "python",
   "pygments_lexer": "ipython3",
   "version": "3.7.4"
  }
 },
 "nbformat": 4,
 "nbformat_minor": 2
}
